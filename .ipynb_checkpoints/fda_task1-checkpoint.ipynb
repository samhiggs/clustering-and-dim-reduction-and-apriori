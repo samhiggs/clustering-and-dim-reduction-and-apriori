{
 "cells": [
  {
   "cell_type": "code",
   "execution_count": 1,
   "metadata": {},
   "outputs": [],
   "source": [
    "# ms-python.python added\n",
    "import os\n",
    "try:\n",
    "\tos.chdir(os.path.join(os.getcwd(), 'A4'))\n",
    "\tprint(os.getcwd())\n",
    "except:\n",
    "\tpass"
   ]
  },
  {
   "cell_type": "markdown",
   "metadata": {},
   "source": [
    " # Assignment 4 Foundation of Data Analysis\n",
    " ## Author: Sam Higgs\n",
    " ### 1) SVD Image Compression Exercise\n",
    " Singular Vector Decomposition (SVD) is a popular tool for dimensionality reduction.\n",
    " The purpose of SVD is to break down a matrix into simpler components, making the calculations less costly.\n",
    " Given a matrix M x N, the simpler components are a U (m x m) matrix, a sigma (m x n) and a transposed V which is\n",
    " the transposition of (n x n).\n",
    "\n",
    " In the context of image compression, we want to reduce the dimensionality of our data, without effecting the\n",
    " images dimensions.\n",
    " We can display images as a matrix of values, where each pixel represents the light intensity (as we are using greyscale)\n",
    " The decomposition into U, sigma and VT enables us to approximate the original image, whilst using far less\n",
    " memory, whilst still giving us an accurate representation of the image."
   ]
  },
  {
   "cell_type": "code",
   "execution_count": 2,
   "metadata": {},
   "outputs": [],
   "source": [
    "import matplotlib.image as npim\n",
    "import matplotlib.pyplot as plt\n",
    "import matplotlib as mpl\n",
    "\n",
    "from numpy.linalg import svd\n",
    "from numpy import zeros, dot, diag, array\n",
    "from ipywidgets import interact, interactive, fixed, interact_manual\n"
   ]
  },
  {
   "cell_type": "code",
   "execution_count": 3,
   "metadata": {},
   "outputs": [],
   "source": [
    "# Increase default figure-plotting quality\n",
    "img = npim.imread(\"faculty.png\")\n",
    "mpl.rcParams['figure.dpi'] = 300"
   ]
  },
  {
   "cell_type": "code",
   "execution_count": 4,
   "metadata": {},
   "outputs": [],
   "source": [
    "def compress_and_show(img, compression):\n",
    "    \"\"\"\n",
    "    Compress the greyscale image and display the plot.\n",
    "    \"\"\"\n",
    "    print(f\"Image shape: {img.shape}\")\n",
    "    recon_img = svd_compression(img, compression)\n",
    "    \n",
    "    f, (ax1, ax2) = plt.subplots(1,2, sharey=True, figsize=(8,5))\n",
    "    ax1.set_title(\"Original Image\")\n",
    "    ax1.imshow(img, cmap = 'gray')\n",
    "    ax2.set_title(\"Compressed Image. Ratio:{:.2f}%\".format(100*compression))\n",
    "    ax2.imshow(recon_img, cmap = 'gray')\n",
    "    ax2.axis('off')\n",
    "    f.tight_layout()\n",
    "\n",
    "def svd_compression(img, compression):\n",
    "    comp_ratio = int(compression*img.shape[0])\n",
    "    U,s,VT = svd(img)\n",
    "    # fig, axes = plt.subplots(3,1, sharey=True)\n",
    "    plt.plot(s)\n",
    "    plt.show()\n",
    "    plt.imshow(U, cmap='gray')\n",
    "    plt.show()\n",
    "    plt.imshow(VT, cmap='gray')\n",
    "    plt.show()\n",
    "    # fig.tight_layout()\n",
    "    return dot(U[:,:comp_ratio], dot(diag(s[:comp_ratio]), VT[:comp_ratio,:]))\n"
   ]
  },
  {
   "cell_type": "markdown",
   "metadata": {},
   "source": [
    " Below, you can move the slider between 0 and 1 (the compression ratio) to see the impact of\n",
    " of a large or small number of components. When the compression ratio is close to 1, the image is\n",
    " closest to the original depiction and has minimal to no compression.\n"
   ]
  },
  {
   "cell_type": "code",
   "execution_count": 5,
   "metadata": {},
   "outputs": [
    {
     "data": {
      "application/vnd.jupyter.widget-view+json": {
       "model_id": "f48fd6c17db24839a37ea3339cc79af4",
       "version_major": 2,
       "version_minor": 0
      },
      "text/plain": [
       "interactive(children=(FloatSlider(value=0.5, description='compression', max=1.0), Output()), _dom_classes=('wi…"
      ]
     },
     "metadata": {},
     "output_type": "display_data"
    },
    {
     "data": {
      "text/plain": [
       "<function __main__.compress_and_show(img, compression)>"
      ]
     },
     "execution_count": 5,
     "metadata": {},
     "output_type": "execute_result"
    }
   ],
   "source": [
    "interact(compress_and_show, compression=(0.00,1.00,0.02), img=fixed(img))"
   ]
  },
  {
   "cell_type": "markdown",
   "metadata": {},
   "source": [
    " ### 2) Comparing PCA vs. SVD"
   ]
  },
  {
   "cell_type": "code",
   "execution_count": 6,
   "metadata": {},
   "outputs": [],
   "source": [
    "# Hint: Useful for 2c & d)\n",
    "from sklearn.preprocessing import StandardScaler\n",
    "\n",
    "\n",
    "\n"
   ]
  },
  {
   "cell_type": "code",
   "execution_count": 0,
   "metadata": {},
   "outputs": [],
   "source": []
  }
 ],
 "metadata": {
  "file_extension": ".py",
  "kernelspec": {
   "display_name": "Python 3",
   "language": "python",
   "name": "python3"
  },
  "language_info": {
   "codemirror_mode": {
    "name": "ipython",
    "version": 3
   },
   "file_extension": ".py",
   "mimetype": "text/x-python",
   "name": "python",
   "nbconvert_exporter": "python",
   "pygments_lexer": "ipython3",
   "version": "3.7.0"
  },
  "mimetype": "text/x-python",
  "name": "python",
  "npconvert_exporter": "python",
  "pygments_lexer": "ipython3",
  "version": 3
 },
 "nbformat": 4,
 "nbformat_minor": 2
}
